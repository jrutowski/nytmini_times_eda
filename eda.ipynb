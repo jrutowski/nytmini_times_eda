{
 "cells": [
  {
   "cell_type": "code",
   "execution_count": 1,
   "metadata": {},
   "outputs": [],
   "source": [
    "import pandas as pd \n",
    "import os "
   ]
  },
  {
   "cell_type": "code",
   "execution_count": 2,
   "metadata": {},
   "outputs": [],
   "source": [
    "df = pd.read_csv('src/Sheet 1-Table 1.csv')"
   ]
  },
  {
   "cell_type": "code",
   "execution_count": 9,
   "metadata": {},
   "outputs": [
    {
     "data": {
      "text/plain": [
       "0.4744479495268139"
      ]
     },
     "execution_count": 9,
     "metadata": {},
     "output_type": "execute_result"
    }
   ],
   "source": [
    "df['Josh R.'].notna().sum() / len(df['Josh R.'])"
   ]
  },
  {
   "cell_type": "code",
   "execution_count": 13,
   "metadata": {},
   "outputs": [],
   "source": [
    "df = df[['Date', 'Andrew', 'Josh R.']]\n",
    "df.rename(columns = {'Date': 'date', \n",
    "    'Andrew':'andrew',\n",
    "    'Josh R.': 'josh'}, inplace = True)"
   ]
  },
  {
   "cell_type": "code",
   "execution_count": 21,
   "metadata": {},
   "outputs": [],
   "source": [
    "df['date'] = pd.to_datetime(df['date'], format = '%b %d, %Y')"
   ]
  },
  {
   "cell_type": "code",
   "execution_count": 23,
   "metadata": {},
   "outputs": [
    {
     "name": "stderr",
     "output_type": "stream",
     "text": [
      "/var/folders/5f/_l7w33_x7rx9p0t5x7ly8zj80000gn/T/ipykernel_7948/3151614663.py:1: FutureWarning: The default value of regex will change from True to False in a future version.\n",
      "  df['josh'].str.replace(r'(\\d+)h', r'\\1 hours').str.replace(r'(\\d+)m', r'\\1 minutes').str.replace(r'(\\d+)s', r'\\1 seconds')\n"
     ]
    },
    {
     "data": {
      "text/plain": [
       "0       2 minutes 28 seconds\n",
       "1       2 minutes 33 seconds\n",
       "2       2 minutes 19 seconds\n",
       "3       3 minutes 44 seconds\n",
       "4                        NaN\n",
       "                ...         \n",
       "1580              38 seconds\n",
       "1581     3 minutes 3 seconds\n",
       "1582    2 minutes 27 seconds\n",
       "1583    1 minutes 14 seconds\n",
       "1584              13 seconds\n",
       "Name: josh, Length: 1585, dtype: object"
      ]
     },
     "execution_count": 23,
     "metadata": {},
     "output_type": "execute_result"
    }
   ],
   "source": [
    "df['josh'].str.replace(r'(\\d+)h', r'\\1 hours').str.replace(r'(\\d+)m', r'\\1 minutes').str.replace(r'(\\d+)s', r'\\1 seconds')"
   ]
  },
  {
   "cell_type": "code",
   "execution_count": null,
   "metadata": {},
   "outputs": [],
   "source": []
  }
 ],
 "metadata": {
  "interpreter": {
   "hash": "1fa0109fd366c85f3f445bf21abc3a14d1454cfdedba412d68bfd75a9aa984f5"
  },
  "kernelspec": {
   "display_name": "Python 3.9.7 64-bit ('personal_env': conda)",
   "language": "python",
   "name": "python3"
  },
  "language_info": {
   "codemirror_mode": {
    "name": "ipython",
    "version": 3
   },
   "file_extension": ".py",
   "mimetype": "text/x-python",
   "name": "python",
   "nbconvert_exporter": "python",
   "pygments_lexer": "ipython3",
   "version": "3.9.7"
  },
  "orig_nbformat": 4
 },
 "nbformat": 4,
 "nbformat_minor": 2
}
